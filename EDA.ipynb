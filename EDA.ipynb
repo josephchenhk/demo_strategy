{
 "cells": [
  {
   "cell_type": "markdown",
   "source": [
    "# EDA\n",
    "\n",
    "- Joseph 2022-09-01"
   ],
   "metadata": {
    "collapsed": false,
    "pycharm": {
     "name": "#%% md\n"
    }
   }
  },
  {
   "cell_type": "code",
   "execution_count": 62,
   "metadata": {
    "collapsed": true
   },
   "outputs": [],
   "source": [
    "import os\n",
    "import subprocess\n",
    "import operator\n",
    "from pathlib import Path\n",
    "from datetime import datetime\n",
    "\n",
    "from tqdm import tqdm\n",
    "import pandas as pd\n",
    "import matplotlib.pyplot as plt\n",
    "import seaborn as sns"
   ]
  },
  {
   "cell_type": "markdown",
   "source": [
    "Firstly, let's count the number of files:"
   ],
   "metadata": {
    "collapsed": false,
    "pycharm": {
     "name": "#%% md\n"
    }
   }
  },
  {
   "cell_type": "code",
   "execution_count": 23,
   "outputs": [
    {
     "name": "stdout",
     "output_type": "stream",
     "text": [
      "There are 463 csv files.\n"
     ]
    }
   ],
   "source": [
    "csv_files = os.listdir(\"data\")\n",
    "print(f\"There are {len(csv_files)} csv files.\")"
   ],
   "metadata": {
    "collapsed": false,
    "pycharm": {
     "name": "#%%\n"
    }
   }
  },
  {
   "cell_type": "markdown",
   "source": [
    "Then, we want to know the begin time and end time,\n",
    "i.e., the historical period, of the each pair/cryptocurrency.\n",
    "We create a variable `data_timerange` to store\n",
    "this information:"
   ],
   "metadata": {
    "collapsed": false,
    "pycharm": {
     "name": "#%% md\n"
    }
   }
  },
  {
   "cell_type": "code",
   "execution_count": 24,
   "outputs": [
    {
     "name": "stderr",
     "output_type": "stream",
     "text": [
      "100%|██████████| 463/463 [05:32<00:00,  1.39it/s]\n"
     ]
    }
   ],
   "source": [
    "data_timerange = {\n",
    "    \"pair_name\": [],\n",
    "    \"base\": [],\n",
    "    \"quote\": [],\n",
    "    \"start_time\": [],\n",
    "    \"end_time\": []\n",
    "}\n",
    "for csv_file in tqdm(csv_files):\n",
    "    pair_name = csv_file.replace(\".csv\", \"\")\n",
    "    if \"-\" in pair_name:\n",
    "        base_coin, quote_coin = pair_name.split(\"-\")\n",
    "    else:\n",
    "        base_coin = pair_name[:-3]\n",
    "        quote_coin = pair_name[-3:]\n",
    "\n",
    "    # Use linux command `awk` to fast analyze the data\n",
    "    cmd = \"awk -F ',' 'NR==2 {print $1} END {print $1}' data/\" + csv_file\n",
    "    p = subprocess.Popen(cmd, stdin=subprocess.PIPE, stdout=subprocess.PIPE, shell=True)\n",
    "    dt = p.stdout.read()[:-1].decode(\"utf-8\")\n",
    "    if dt.count(\"\\n\") != 1:\n",
    "        continue\n",
    "    start_str, end_str = dt.split(\"\\n\")\n",
    "    start_dt = datetime.fromtimestamp(int(start_str)/1000)\n",
    "    end_dt = datetime.fromtimestamp(int(end_str)/1000)\n",
    "\n",
    "    # Use pandas to analyze the data (less efficient)\n",
    "    # df = pd.read_csv(f\"data/{csv_file}\")\n",
    "    # if df.empty:\n",
    "    #     continue\n",
    "    # start_dt = datetime.fromtimestamp(int(df.iloc[0][\"time\"]/1000))\n",
    "    # end_dt = datetime.fromtimestamp(int(df.iloc[-1][\"time\"]/1000))\n",
    "\n",
    "    data_timerange[\"pair_name\"].append(pair_name)\n",
    "    data_timerange[\"base\"].append(base_coin)\n",
    "    data_timerange[\"quote\"].append(quote_coin)\n",
    "    data_timerange[\"start_time\"].append(start_dt)\n",
    "    data_timerange[\"end_time\"].append(end_dt)\n",
    "data_timerange = pd.DataFrame(data_timerange)"
   ],
   "metadata": {
    "collapsed": false,
    "pycharm": {
     "name": "#%%\n"
    }
   }
  },
  {
   "cell_type": "markdown",
   "source": [
    "We can peek at the result, and save it."
   ],
   "metadata": {
    "collapsed": false,
    "pycharm": {
     "name": "#%% md\n"
    }
   }
  },
  {
   "cell_type": "code",
   "execution_count": 26,
   "outputs": [
    {
     "data": {
      "text/plain": "     pair_name     base quote          start_time            end_time\n0       xrpusd      xrp   usd 2017-05-20 01:57:00 2022-08-10 19:26:00\n1       ccdust      ccd   ust 2022-02-10 18:04:00 2022-08-11 08:22:00\n2  planets-ust  planets   ust 2021-08-11 04:08:00 2021-08-29 21:14:00\n3     velo-usd     velo   usd 2021-08-11 09:28:00 2021-08-29 05:21:00\n4       batust      bat   ust 2021-09-14 21:02:00 2022-08-10 19:24:00",
      "text/html": "<div>\n<style scoped>\n    .dataframe tbody tr th:only-of-type {\n        vertical-align: middle;\n    }\n\n    .dataframe tbody tr th {\n        vertical-align: top;\n    }\n\n    .dataframe thead th {\n        text-align: right;\n    }\n</style>\n<table border=\"1\" class=\"dataframe\">\n  <thead>\n    <tr style=\"text-align: right;\">\n      <th></th>\n      <th>pair_name</th>\n      <th>base</th>\n      <th>quote</th>\n      <th>start_time</th>\n      <th>end_time</th>\n    </tr>\n  </thead>\n  <tbody>\n    <tr>\n      <th>0</th>\n      <td>xrpusd</td>\n      <td>xrp</td>\n      <td>usd</td>\n      <td>2017-05-20 01:57:00</td>\n      <td>2022-08-10 19:26:00</td>\n    </tr>\n    <tr>\n      <th>1</th>\n      <td>ccdust</td>\n      <td>ccd</td>\n      <td>ust</td>\n      <td>2022-02-10 18:04:00</td>\n      <td>2022-08-11 08:22:00</td>\n    </tr>\n    <tr>\n      <th>2</th>\n      <td>planets-ust</td>\n      <td>planets</td>\n      <td>ust</td>\n      <td>2021-08-11 04:08:00</td>\n      <td>2021-08-29 21:14:00</td>\n    </tr>\n    <tr>\n      <th>3</th>\n      <td>velo-usd</td>\n      <td>velo</td>\n      <td>usd</td>\n      <td>2021-08-11 09:28:00</td>\n      <td>2021-08-29 05:21:00</td>\n    </tr>\n    <tr>\n      <th>4</th>\n      <td>batust</td>\n      <td>bat</td>\n      <td>ust</td>\n      <td>2021-09-14 21:02:00</td>\n      <td>2022-08-10 19:24:00</td>\n    </tr>\n  </tbody>\n</table>\n</div>"
     },
     "execution_count": 26,
     "metadata": {},
     "output_type": "execute_result"
    }
   ],
   "source": [
    "data_timerange.to_csv(\"EDA_results/data_timerange.csv\")\n",
    "data_timerange.head()"
   ],
   "metadata": {
    "collapsed": false,
    "pycharm": {
     "name": "#%%\n"
    }
   }
  },
  {
   "cell_type": "code",
   "execution_count": 26,
   "outputs": [],
   "source": [],
   "metadata": {
    "collapsed": false,
    "pycharm": {
     "name": "#%%\n"
    }
   }
  },
  {
   "cell_type": "markdown",
   "source": [
    "To develop a meaningful trading strategy, sufficient\n",
    "historical data must be available.\n",
    "Since many of the cryptocurrencies either emerge late\n",
    "or fail to survive, they are not qualified as the\n",
    "trading instruments. Here we are only interested in\n",
    "those that have a complete history from 2020-01-01 to 2022-08-10.\n",
    "\n",
    "We are going to use 2 years' historical data (\n",
    "2020-01-01 - 2021-12-31) as the training dataset to develop our\n",
    "strategy; while leaving the 8 months' data (2022-01-01 -\n",
    "2022-08-10) as the testing dataset. We will develop a\n",
    "strategy denominated on`USD`, therefore we\n",
    "only consider`USD`as the quote currency.\n",
    "\n",
    "We can find out the number of cryptocurrency that satisfies\n",
    "these criteria is 73:"
   ],
   "metadata": {
    "collapsed": false,
    "pycharm": {
     "name": "#%% md\n"
    }
   }
  },
  {
   "cell_type": "code",
   "execution_count": 27,
   "outputs": [
    {
     "name": "stdout",
     "output_type": "stream",
     "text": [
      "Number of pairs that are qualified: 73\n"
     ]
    }
   ],
   "source": [
    "data_timerange_selected = data_timerange[\n",
    "    (data_timerange.start_time <= \"2020-01-01\")\n",
    "    & (data_timerange.end_time >= \"2022-08-10\")\n",
    "    & (data_timerange.quote == \"usd\")\n",
    "].reset_index(inplace=False)\n",
    "print(f\"Number of pairs that are qualified: {data_timerange_selected.shape[0]}\")"
   ],
   "metadata": {
    "collapsed": false,
    "pycharm": {
     "name": "#%%\n"
    }
   }
  },
  {
   "cell_type": "code",
   "execution_count": 29,
   "outputs": [],
   "source": [],
   "metadata": {
    "collapsed": false,
    "pycharm": {
     "name": "#%%\n"
    }
   }
  },
  {
   "cell_type": "markdown",
   "source": [
    "Among the 73 pairs of cryptocurrencies, they are not being\n",
    "traded equally actively. We should expect some of them\n",
    "are highly liquid, while some of them are traded less\n",
    "frequently. A security that is traded less frequently\n",
    "means there might not be sufficient historical data for\n",
    "us to develop a meaningful strategy (as there could\n",
    "be many`NAN`values, i.e., missing values, in the dataset).\n",
    "\n",
    "Hence we need to find out those with high liquidity.\n",
    "To this end, let's measure the average number of records\n",
    "within these selected 73 pairs:\n"
   ],
   "metadata": {
    "collapsed": false,
    "pycharm": {
     "name": "#%% md\n"
    }
   }
  },
  {
   "cell_type": "code",
   "execution_count": 64,
   "outputs": [
    {
     "name": "stderr",
     "output_type": "stream",
     "text": [
      "73it [02:32,  2.09s/it]\n"
     ]
    },
    {
     "data": {
      "text/plain": "{'btcusd': 59.387036064425764,\n 'ethusd': 57.084252450980394,\n 'xrpusd': 53.662421218487395,\n 'leousd': 50.471288515406165,\n 'ustusd': 49.32274159663866,\n 'ltcusd': 46.442970938375346,\n 'eosusd': 38.16032037815126,\n 'trxusd': 32.464635854341736,\n 'iotusd': 29.858674719887954,\n 'omgusd': 28.966736694677873,\n 'dshusd': 28.289522058823533,\n 'xtzusd': 28.125919117647058,\n 'neousd': 26.996104691876752,\n 'zecusd': 26.854429271708682,\n 'xlmusd': 25.863489145658264,\n 'etcusd': 25.144826680672267,\n 'gtxusd': 24.986607142857142,\n 'xmrusd': 23.228203781512605,\n 'bsvusd': 23.174632352941178,\n 'algusd': 22.860294117647058,\n 'vsyusd': 19.907256652661065,\n 'zrxusd': 19.524903711484594,\n 'atousd': 19.069152661064425,\n 'uosusd': 18.80400910364146,\n 'ampusd': 15.793723739495798,\n 'bttusd': 12.78532037815126,\n 'clousd': 12.084033613445378,\n 'daiusd': 11.967612044817926,\n 'iqxusd': 11.579262955182074,\n 'udcusd': 11.091123949579831,\n 'vetusd': 10.877494747899158,\n 'eutusd': 10.664259453781513,\n 'xvgusd': 10.48984593837535,\n 'gntusd': 10.468356092436975,\n 'batusd': 10.16762955182073,\n 'etpusd': 9.949317226890757,\n 'mnausd': 9.83998599439776,\n 'dgbusd': 7.92375700280112,\n 'rbtusd': 7.8771008403361344,\n 'stjusd': 7.61983543417367,\n 'datusd': 7.567270658263305,\n 'pnkusd': 7.367997198879551,\n 'lrcusd': 7.258972338935575,\n 'wbtusd': 7.2476803221288515,\n 'mlnusd': 7.1379551820728295,\n 'mkrusd': 6.860469187675069,\n 'bftusd': 6.745667016806723,\n 'zcnusd': 6.604735644257704,\n 'edousd': 6.593224789915966,\n 'tsdusd': 6.122198879551821,\n 'repusd': 6.059436274509804,\n 'utkusd': 5.715642507002801,\n 'kanusd': 5.692577030812324,\n 'xrausd': 5.683517156862745,\n 'gnousd': 5.284838935574229,\n 'sntusd': 5.215992647058823,\n 'btgusd': 4.706013655462185,\n 'kncusd': 4.434873949579832,\n 'sanusd': 4.049807422969187,\n 'antusd': 3.6839548319327733,\n 'qtmusd': 3.428046218487395,\n 'zilusd': 3.02437850140056,\n 'chzusd': 2.8411239495798317,\n 'enjusd': 2.722732843137255,\n 'requsd': 2.036589635854342,\n 'waxusd': 1.862876400560224,\n 'rrtusd': 1.6500350140056022,\n 'fttusd': 1.446078431372549,\n 'funusd': 0.8742559523809524,\n 'veeusd': 0.61046918767507,\n 'pasusd': 0.5803571428571429,\n 'bntusd': 0.5375962885154062,\n 'lymusd': 0.5270920868347339}"
     },
     "execution_count": 64,
     "metadata": {},
     "output_type": "execute_result"
    }
   ],
   "source": [
    "start_dt = datetime(2020, 1, 1)\n",
    "end_dt = datetime(2022, 8, 10)\n",
    "num_days = (end_dt - start_dt).days\n",
    "start_ts = start_dt.timestamp() * 1000\n",
    "end_ts = end_dt.timestamp() * 1000\n",
    "data_timerange_selected_count = {}\n",
    "for i, row in tqdm(data_timerange_selected.iterrows()):\n",
    "    cmd = (\n",
    "        f\"awk '$1 >= {start_ts} && $1 <= {end_ts} \"\n",
    "        \"{ count++ } END { print count }' \"\n",
    "        f\"data/{row.pair_name}.csv\"\n",
    "    )\n",
    "    p = subprocess.Popen(cmd, stdin=subprocess.PIPE, stdout=subprocess.PIPE, shell=True)\n",
    "    res = p.stdout.read()[:-1].decode(\"utf-8\")\n",
    "    # Average number of 1min bar in 1 hour\n",
    "    avg_num_bars = float(res) / num_days / 24.0\n",
    "    data_timerange_selected_count[row.pair_name] = avg_num_bars\n",
    "\n",
    "sorted_data_timerange_selected_count = dict(\n",
    "    sorted(data_timerange_selected_count.items(),\n",
    "           key=operator.itemgetter(1),\n",
    "           reverse=True)\n",
    ")\n",
    "sorted_data_timerange_selected_count"
   ],
   "metadata": {
    "collapsed": false,
    "pycharm": {
     "name": "#%%\n"
    }
   }
  },
  {
   "cell_type": "markdown",
   "source": [
    "We can see that `BTC` and `ETH` are trading most actively; while\n",
    "coins such as`BNT`and `LYM` are almost inactive. The table shows\n",
    "that there are 59 bars (1-min OHLCV) in every hour for `BTC`, and 57\n",
    "bars for `ETH`, which indicates high liquidity for these two\n",
    "cryptocurrencies. The less this number becomes, the more illiquid\n",
    "it becomes.\n",
    "\n",
    "If we require that there are at least 30 1-min bars in an hour (\n",
    "it means the portion of missing values should not exceed 50%),\n",
    "eight pairs are qualified for this liquidity criteria:"
   ],
   "metadata": {
    "collapsed": false,
    "pycharm": {
     "name": "#%% md\n"
    }
   }
  },
  {
   "cell_type": "code",
   "execution_count": 66,
   "outputs": [
    {
     "data": {
      "text/plain": "['btcusd',\n 'ethusd',\n 'xrpusd',\n 'leousd',\n 'ustusd',\n 'ltcusd',\n 'eosusd',\n 'trxusd']"
     },
     "execution_count": 66,
     "metadata": {},
     "output_type": "execute_result"
    }
   ],
   "source": [
    "liquid_pairs = [\n",
    "    k for k, v in sorted_data_timerange_selected_count.items()\n",
    "    if v >= 30\n",
    "]\n",
    "liquid_pairs"
   ],
   "metadata": {
    "collapsed": false,
    "pycharm": {
     "name": "#%%\n"
    }
   }
  },
  {
   "cell_type": "markdown",
   "source": [
    "We can look at the price movements of these eight pairs:"
   ],
   "metadata": {
    "collapsed": false,
    "pycharm": {
     "name": "#%% md\n"
    }
   }
  },
  {
   "cell_type": "code",
   "execution_count": 68,
   "outputs": [
    {
     "name": "stderr",
     "output_type": "stream",
     "text": [
      "8it [00:26,  3.26s/it]\n"
     ]
    },
    {
     "data": {
      "text/plain": "<Figure size 432x288 with 2 Axes>",
      "image/png": "[encoded data removed]"
     },
     "metadata": {
      "needs_background": "light"
     },
     "output_type": "display_data"
    },
    {
     "data": {
      "text/plain": "<Figure size 432x288 with 2 Axes>",
      "image/png": "[encoded data removed]"
     },
     "metadata": {
      "needs_background": "light"
     },
     "output_type": "display_data"
    },
    {
     "data": {
      "text/plain": "<Figure size 432x288 with 2 Axes>",
      "image/png": "[encoded data removed]"
     },
     "metadata": {
      "needs_background": "light"
     },
     "output_type": "display_data"
    },
    {
     "data": {
      "text/plain": "<Figure size 432x288 with 2 Axes>",
      "image/png": "[encoded data removed]"
     },
     "metadata": {
      "needs_background": "light"
     },
     "output_type": "display_data"
    }
   ],
   "source": [
    "for i, pair_name in tqdm(enumerate(liquid_pairs)):\n",
    "    if i % 2 == 0:\n",
    "        fig, axes = plt.subplots(\n",
    "            nrows=2, #data_universe.shape[0],\n",
    "            ncols=1,\n",
    "            sharex=True\n",
    "        )\n",
    "    df = pd.read_csv(f\"data/{pair_name}.csv\")\n",
    "    df = df[\n",
    "        (df.time >= start_ts)\n",
    "        & (df.time <= end_ts)\n",
    "    ]\n",
    "    df[\"time_key\"] = df.time.apply(lambda x: datetime.fromtimestamp(int(x/1000)))\n",
    "    df[[\"time_key\", \"close\"]].set_index(\"time_key\").plot(\n",
    "        ax=axes[i%2],\n",
    "        title=pair_name)"
   ],
   "metadata": {
    "collapsed": false,
    "pycharm": {
     "name": "#%%\n"
    }
   }
  },
  {
   "cell_type": "markdown",
   "source": [
    "We can see that `BTC`, `ETH`, `XRP`, `LTC`,`EOS`and`TRX` show\n",
    "some sort of similarity in price movement, but `LEO` and\n",
    "`UST` differ from the others. This is understandable as\n",
    "`UST`is pegged to`USD`, and`LEO`is the utility token intended\n",
    "for the use on the Bitfinex exchange and other trading platforms\n",
    "managed by its parent company iFinex.\n",
    "\n",
    "We can see it more clear in a correlation table and correlation\n",
    "heatmap:"
   ],
   "metadata": {
    "collapsed": false,
    "pycharm": {
     "name": "#%% md\n"
    }
   }
  },
  {
   "cell_type": "code",
   "execution_count": 95,
   "outputs": [
    {
     "name": "stderr",
     "output_type": "stream",
     "text": [
      "8it [00:12,  1.58s/it]\n"
     ]
    }
   ],
   "source": [
    "corr_df = None\n",
    "for i, pair_name in tqdm(enumerate(liquid_pairs)):\n",
    "    df = pd.read_csv(f\"data/{pair_name}.csv\")\n",
    "    df = df[\n",
    "        (df.time >= start_ts)\n",
    "        & (df.time <= end_ts)\n",
    "    ]\n",
    "    df = df[[\"time\", \"close\"]].set_index(\"time\")\n",
    "    df.columns = [pair_name]\n",
    "    if corr_df is None:\n",
    "        corr_df = df\n",
    "    else:\n",
    "        corr_df = corr_df.join(df, how=\"outer\")\n",
    "\n",
    "corr_df = corr_df.ffill().bfill()"
   ],
   "metadata": {
    "collapsed": false,
    "pycharm": {
     "name": "#%%\n"
    }
   }
  },
  {
   "cell_type": "code",
   "execution_count": 96,
   "outputs": [
    {
     "data": {
      "text/plain": "          btcusd    ethusd    xrpusd    leousd    ustusd    ltcusd    eosusd  \\\nbtcusd  1.000000  0.901406  0.846876  0.471159 -0.265338  0.894815  0.501433   \nethusd  0.901406  1.000000  0.869280  0.626966 -0.224309  0.755095  0.396564   \nxrpusd  0.846876  0.869280  1.000000  0.404849 -0.201316  0.860627  0.683777   \nleousd  0.471159  0.626966  0.404849  1.000000 -0.261056  0.175970 -0.230749   \nustusd -0.265338 -0.224309 -0.201316 -0.261056  1.000000 -0.196646 -0.057586   \nltcusd  0.894815  0.755095  0.860627  0.175970 -0.196646  1.000000  0.794583   \neosusd  0.501433  0.396564  0.683777 -0.230749 -0.057586  0.794583  1.000000   \ntrxusd  0.861088  0.868435  0.902635  0.570712 -0.275352  0.803104  0.526395   \n\n          trxusd  \nbtcusd  0.861088  \nethusd  0.868435  \nxrpusd  0.902635  \nleousd  0.570712  \nustusd -0.275352  \nltcusd  0.803104  \neosusd  0.526395  \ntrxusd  1.000000  ",
      "text/html": "<div>\n<style scoped>\n    .dataframe tbody tr th:only-of-type {\n        vertical-align: middle;\n    }\n\n    .dataframe tbody tr th {\n        vertical-align: top;\n    }\n\n    .dataframe thead th {\n        text-align: right;\n    }\n</style>\n<table border=\"1\" class=\"dataframe\">\n  <thead>\n    <tr style=\"text-align: right;\">\n      <th></th>\n      <th>btcusd</th>\n      <th>ethusd</th>\n      <th>xrpusd</th>\n      <th>leousd</th>\n      <th>ustusd</th>\n      <th>ltcusd</th>\n      <th>eosusd</th>\n      <th>trxusd</th>\n    </tr>\n  </thead>\n  <tbody>\n    <tr>\n      <th>btcusd</th>\n      <td>1.000000</td>\n      <td>0.901406</td>\n      <td>0.846876</td>\n      <td>0.471159</td>\n      <td>-0.265338</td>\n      <td>0.894815</td>\n      <td>0.501433</td>\n      <td>0.861088</td>\n    </tr>\n    <tr>\n      <th>ethusd</th>\n      <td>0.901406</td>\n      <td>1.000000</td>\n      <td>0.869280</td>\n      <td>0.626966</td>\n      <td>-0.224309</td>\n      <td>0.755095</td>\n      <td>0.396564</td>\n      <td>0.868435</td>\n    </tr>\n    <tr>\n      <th>xrpusd</th>\n      <td>0.846876</td>\n      <td>0.869280</td>\n      <td>1.000000</td>\n      <td>0.404849</td>\n      <td>-0.201316</td>\n      <td>0.860627</td>\n      <td>0.683777</td>\n      <td>0.902635</td>\n    </tr>\n    <tr>\n      <th>leousd</th>\n      <td>0.471159</td>\n      <td>0.626966</td>\n      <td>0.404849</td>\n      <td>1.000000</td>\n      <td>-0.261056</td>\n      <td>0.175970</td>\n      <td>-0.230749</td>\n      <td>0.570712</td>\n    </tr>\n    <tr>\n      <th>ustusd</th>\n      <td>-0.265338</td>\n      <td>-0.224309</td>\n      <td>-0.201316</td>\n      <td>-0.261056</td>\n      <td>1.000000</td>\n      <td>-0.196646</td>\n      <td>-0.057586</td>\n      <td>-0.275352</td>\n    </tr>\n    <tr>\n      <th>ltcusd</th>\n      <td>0.894815</td>\n      <td>0.755095</td>\n      <td>0.860627</td>\n      <td>0.175970</td>\n      <td>-0.196646</td>\n      <td>1.000000</td>\n      <td>0.794583</td>\n      <td>0.803104</td>\n    </tr>\n    <tr>\n      <th>eosusd</th>\n      <td>0.501433</td>\n      <td>0.396564</td>\n      <td>0.683777</td>\n      <td>-0.230749</td>\n      <td>-0.057586</td>\n      <td>0.794583</td>\n      <td>1.000000</td>\n      <td>0.526395</td>\n    </tr>\n    <tr>\n      <th>trxusd</th>\n      <td>0.861088</td>\n      <td>0.868435</td>\n      <td>0.902635</td>\n      <td>0.570712</td>\n      <td>-0.275352</td>\n      <td>0.803104</td>\n      <td>0.526395</td>\n      <td>1.000000</td>\n    </tr>\n  </tbody>\n</table>\n</div>"
     },
     "execution_count": 96,
     "metadata": {},
     "output_type": "execute_result"
    }
   ],
   "source": [
    "corr_df.corr()"
   ],
   "metadata": {
    "collapsed": false,
    "pycharm": {
     "name": "#%%\n"
    }
   }
  },
  {
   "cell_type": "code",
   "execution_count": 97,
   "outputs": [
    {
     "data": {
      "text/plain": "<matplotlib.axes._subplots.AxesSubplot at 0x7fc8cea58d30>"
     },
     "execution_count": 97,
     "metadata": {},
     "output_type": "execute_result"
    },
    {
     "data": {
      "text/plain": "<Figure size 432x288 with 2 Axes>",
      "image/png": "[encoded data removed]"
     },
     "metadata": {
      "needs_background": "light"
     },
     "output_type": "display_data"
    }
   ],
   "source": [
    "sns.heatmap(corr_df.corr())"
   ],
   "metadata": {
    "collapsed": false,
    "pycharm": {
     "name": "#%%\n"
    }
   }
  },
  {
   "cell_type": "markdown",
   "source": [
    "As expected,`UST` and `LEO` do not correlate significantly\n",
    "with other cryptocurrencies. `EOS` also in general shows less\n",
    "correlation with other cryptocurrencies, although it shows\n",
    "noticable positive correlaiton with `LTC`.\n",
    "\n",
    "Therefore we have found out six pairs of cryptocurrencies that\n",
    "are in general liquid and correlated:"
   ],
   "metadata": {
    "collapsed": false,
    "pycharm": {
     "name": "#%% md\n"
    }
   }
  },
  {
   "cell_type": "code",
   "execution_count": 99,
   "outputs": [
    {
     "data": {
      "text/plain": "['btcusd', 'ethusd', 'xrpusd', 'ltcusd', 'eosusd', 'trxusd']"
     },
     "execution_count": 99,
     "metadata": {},
     "output_type": "execute_result"
    }
   ],
   "source": [
    "\n",
    "liquid_correlated_pairs = liquid_pairs[:]\n",
    "liquid_correlated_pairs.remove('ustusd')\n",
    "liquid_correlated_pairs.remove('leousd')\n",
    "liquid_correlated_pairs"
   ],
   "metadata": {
    "collapsed": false,
    "pycharm": {
     "name": "#%%\n"
    }
   }
  },
  {
   "cell_type": "markdown",
   "source": [
    "We want to see the active trading hours of these six pairs."
   ],
   "metadata": {
    "collapsed": false,
    "pycharm": {
     "name": "#%% md\n"
    }
   }
  },
  {
   "cell_type": "code",
   "execution_count": 102,
   "outputs": [
    {
     "name": "stderr",
     "output_type": "stream",
     "text": [
      "6it [01:07, 11.20s/it]\n"
     ]
    },
    {
     "data": {
      "text/plain": "              max        min       mean     median       std\nbtcusd  59.608604  58.991605  59.324764  59.382476  0.206336\nethusd  58.116474  55.850997  57.024397  57.084995  0.669325\nxrpusd  55.938090  50.664218  53.606156  54.376180  1.792253\nltcusd  50.429171  42.803778  46.394281  46.599161  2.267764\neosusd  43.192025  33.854145  38.120322  37.842078  2.586378\ntrxusd  35.163866  30.692227  32.464636  32.341912  1.172689",
      "text/html": "<div>\n<style scoped>\n    .dataframe tbody tr th:only-of-type {\n        vertical-align: middle;\n    }\n\n    .dataframe tbody tr th {\n        vertical-align: top;\n    }\n\n    .dataframe thead th {\n        text-align: right;\n    }\n</style>\n<table border=\"1\" class=\"dataframe\">\n  <thead>\n    <tr style=\"text-align: right;\">\n      <th></th>\n      <th>max</th>\n      <th>min</th>\n      <th>mean</th>\n      <th>median</th>\n      <th>std</th>\n    </tr>\n  </thead>\n  <tbody>\n    <tr>\n      <th>btcusd</th>\n      <td>59.608604</td>\n      <td>58.991605</td>\n      <td>59.324764</td>\n      <td>59.382476</td>\n      <td>0.206336</td>\n    </tr>\n    <tr>\n      <th>ethusd</th>\n      <td>58.116474</td>\n      <td>55.850997</td>\n      <td>57.024397</td>\n      <td>57.084995</td>\n      <td>0.669325</td>\n    </tr>\n    <tr>\n      <th>xrpusd</th>\n      <td>55.938090</td>\n      <td>50.664218</td>\n      <td>53.606156</td>\n      <td>54.376180</td>\n      <td>1.792253</td>\n    </tr>\n    <tr>\n      <th>ltcusd</th>\n      <td>50.429171</td>\n      <td>42.803778</td>\n      <td>46.394281</td>\n      <td>46.599161</td>\n      <td>2.267764</td>\n    </tr>\n    <tr>\n      <th>eosusd</th>\n      <td>43.192025</td>\n      <td>33.854145</td>\n      <td>38.120322</td>\n      <td>37.842078</td>\n      <td>2.586378</td>\n    </tr>\n    <tr>\n      <th>trxusd</th>\n      <td>35.163866</td>\n      <td>30.692227</td>\n      <td>32.464636</td>\n      <td>32.341912</td>\n      <td>1.172689</td>\n    </tr>\n  </tbody>\n</table>\n</div>"
     },
     "execution_count": 102,
     "metadata": {},
     "output_type": "execute_result"
    },
    {
     "data": {
      "text/plain": "<Figure size 432x288 with 3 Axes>",
      "image/png": "[encoded data removed]"
     },
     "metadata": {
      "needs_background": "light"
     },
     "output_type": "display_data"
    },
    {
     "data": {
      "text/plain": "<Figure size 432x288 with 3 Axes>",
      "image/png": "[encoded data removed]"
     },
     "metadata": {
      "needs_background": "light"
     },
     "output_type": "display_data"
    }
   ],
   "source": [
    "num_bars_in_1hr = {}\n",
    "for i, pair in tqdm(enumerate(liquid_correlated_pairs)):\n",
    "    if i % 3 == 0:\n",
    "        fig, axes = plt.subplots(\n",
    "            nrows=3,\n",
    "            ncols=1,\n",
    "            sharex=True\n",
    "        )\n",
    "    df = pd.read_csv(f\"data/{pair}.csv\")\n",
    "    df = df[\n",
    "        (df.time >= start_ts)\n",
    "        & (df.time <= end_ts)\n",
    "    ]\n",
    "    df[\"time_key\"] = df.time.apply(lambda x: datetime.fromtimestamp(int(x/1000)))\n",
    "    df[\"date\"] = df.time_key.apply(lambda x: x.date())\n",
    "    df[\"hour\"] = df.time_key.apply(lambda x: x.hour)\n",
    "    num_days = len(df.date.unique())\n",
    "    # Average number of bars in that particular hour\n",
    "    df1 = df.groupby(\"hour\").count().time / num_days\n",
    "    df1.plot(ax=axes[i%3], title=f\"{pair}\")\n",
    "    num_bars_in_1hr[pair] = {\n",
    "        \"max\": df1.max(),\n",
    "        \"min\": df1.min(),\n",
    "        \"mean\": df1.mean(),\n",
    "        \"median\": df1.median(),\n",
    "        \"std\": df1.std()\n",
    "    }\n",
    "num_bars_in_1hr = pd.DataFrame(num_bars_in_1hr).T\n",
    "num_bars_in_1hr = num_bars_in_1hr.sort_values(by=\"min\", ascending=False)\n",
    "num_bars_in_1hr"
   ],
   "metadata": {
    "collapsed": false,
    "pycharm": {
     "name": "#%%\n"
    }
   }
  },
  {
   "cell_type": "markdown",
   "source": [
    "As we can see, all six pairs have similar active trading\n",
    "hours. The market is relatively silent from 9 am to 4 pm.\n",
    "The less active period for `XRP` a bit later than the\n",
    "other cryptocurrencies.\n",
    "This may indicate that the investors of different cryptocurrencies\n",
    "are likely the same group of people."
   ],
   "metadata": {
    "collapsed": false,
    "pycharm": {
     "name": "#%% md\n"
    }
   }
  },
  {
   "cell_type": "code",
   "execution_count": 94,
   "outputs": [],
   "source": [],
   "metadata": {
    "collapsed": false,
    "pycharm": {
     "name": "#%%\n"
    }
   }
  },
  {
   "cell_type": "code",
   "source": [],
   "metadata": {
    "collapsed": false,
    "pycharm": {
     "name": "#%% \n"
    }
   },
   "execution_count": 102,
   "outputs": []
  },
  {
   "cell_type": "code",
   "execution_count": 34,
   "outputs": [],
   "source": [
    "Path(\"clean_data/k_line/K_1M\").mkdir(parents=True, exist_ok=True)"
   ],
   "metadata": {
    "collapsed": false,
    "pycharm": {
     "name": "#%%\n"
    }
   }
  },
  {
   "cell_type": "code",
   "execution_count": 35,
   "outputs": [
    {
     "ename": "NameError",
     "evalue": "name 'data_universe' is not defined",
     "output_type": "error",
     "traceback": [
      "\u001B[0;31m---------------------------------------------------------------------------\u001B[0m",
      "\u001B[0;31mNameError\u001B[0m                                 Traceback (most recent call last)",
      "\u001B[0;32m<ipython-input-35-cc8dacedbdb7>\u001B[0m in \u001B[0;36m<module>\u001B[0;34m\u001B[0m\n\u001B[1;32m      1\u001B[0m \u001B[0;34m\u001B[0m\u001B[0m\n\u001B[0;32m----> 2\u001B[0;31m \u001B[0;32mfor\u001B[0m \u001B[0mi\u001B[0m\u001B[0;34m,\u001B[0m \u001B[0mrow\u001B[0m \u001B[0;32min\u001B[0m \u001B[0mtqdm\u001B[0m\u001B[0;34m(\u001B[0m\u001B[0mdata_universe\u001B[0m\u001B[0;34m.\u001B[0m\u001B[0miterrows\u001B[0m\u001B[0;34m(\u001B[0m\u001B[0;34m)\u001B[0m\u001B[0;34m)\u001B[0m\u001B[0;34m:\u001B[0m\u001B[0;34m\u001B[0m\u001B[0;34m\u001B[0m\u001B[0m\n\u001B[0m\u001B[1;32m      3\u001B[0m     \u001B[0mdf\u001B[0m \u001B[0;34m=\u001B[0m \u001B[0mpd\u001B[0m\u001B[0;34m.\u001B[0m\u001B[0mread_csv\u001B[0m\u001B[0;34m(\u001B[0m\u001B[0;34mf\"data/{row.pair_name}.csv\"\u001B[0m\u001B[0;34m)\u001B[0m\u001B[0;34m\u001B[0m\u001B[0;34m\u001B[0m\u001B[0m\n\u001B[1;32m      4\u001B[0m     \u001B[0mdf\u001B[0m\u001B[0;34m[\u001B[0m\u001B[0;34m\"time_key\"\u001B[0m\u001B[0;34m]\u001B[0m \u001B[0;34m=\u001B[0m \u001B[0mdf\u001B[0m\u001B[0;34m.\u001B[0m\u001B[0mtime\u001B[0m\u001B[0;34m.\u001B[0m\u001B[0mapply\u001B[0m\u001B[0;34m(\u001B[0m\u001B[0;32mlambda\u001B[0m \u001B[0mx\u001B[0m\u001B[0;34m:\u001B[0m \u001B[0mdatetime\u001B[0m\u001B[0;34m.\u001B[0m\u001B[0mfromtimestamp\u001B[0m\u001B[0;34m(\u001B[0m\u001B[0mint\u001B[0m\u001B[0;34m(\u001B[0m\u001B[0mx\u001B[0m\u001B[0;34m/\u001B[0m\u001B[0;36m1000\u001B[0m\u001B[0;34m)\u001B[0m\u001B[0;34m)\u001B[0m\u001B[0;34m)\u001B[0m\u001B[0;34m\u001B[0m\u001B[0;34m\u001B[0m\u001B[0m\n\u001B[1;32m      5\u001B[0m     \u001B[0mdf\u001B[0m\u001B[0;34m[\u001B[0m\u001B[0;34m\"date\"\u001B[0m\u001B[0;34m]\u001B[0m \u001B[0;34m=\u001B[0m \u001B[0mdf\u001B[0m\u001B[0;34m.\u001B[0m\u001B[0mtime_key\u001B[0m\u001B[0;34m.\u001B[0m\u001B[0mapply\u001B[0m\u001B[0;34m(\u001B[0m\u001B[0;32mlambda\u001B[0m \u001B[0mx\u001B[0m\u001B[0;34m:\u001B[0m \u001B[0mx\u001B[0m\u001B[0;34m.\u001B[0m\u001B[0mdate\u001B[0m\u001B[0;34m(\u001B[0m\u001B[0;34m)\u001B[0m\u001B[0;34m)\u001B[0m\u001B[0;34m\u001B[0m\u001B[0;34m\u001B[0m\u001B[0m\n",
      "\u001B[0;31mNameError\u001B[0m: name 'data_universe' is not defined"
     ]
    }
   ],
   "source": [
    "for i, row in tqdm(data_universe.iterrows()):\n",
    "    df = pd.read_csv(f\"data/{row.pair_name}.csv\")\n",
    "    df[\"time_key\"] = df.time.apply(lambda x: datetime.fromtimestamp(int(x/1000)))\n",
    "    df[\"date\"] = df.time_key.apply(lambda x: x.date())\n",
    "    df = df[\n",
    "        (df.time_key >= \"2020-01-01\")\n",
    "        & (df.time_key <= \"2022-08-10\")\n",
    "    ]\n",
    "    # print(f\"{i}. {row.pair_name}: {df.shape}\")\n",
    "    for date_ in df.date.unique():\n",
    "        df_daily = df[df.date == date_][\n",
    "            [\"time_key\", \"open\", \"high\", \"low\", \"close\", \"volume\"]\n",
    "        ].reset_index(drop=True)\n",
    "        date_str = date_.strftime(\"%Y-%m-%d\")\n",
    "        Path(f\"clean_data/k_line/K_1M/{row.pair_name}\").mkdir(parents=True, exist_ok=True)\n",
    "        df_daily.to_csv(f\"clean_data/k_line/K_1M/{row.pair_name}/{date_str}.csv\",\n",
    "                        index=False)"
   ],
   "metadata": {
    "collapsed": false,
    "pycharm": {
     "name": "#%%\n"
    }
   }
  },
  {
   "cell_type": "code",
   "execution_count": null,
   "outputs": [],
   "source": [],
   "metadata": {
    "collapsed": false,
    "pycharm": {
     "name": "#%%\n"
    }
   }
  },
  {
   "cell_type": "code",
   "source": [],
   "metadata": {
    "collapsed": false,
    "pycharm": {
     "name": "#%%\n"
    }
   },
   "execution_count": 102,
   "outputs": []
  },
  {
   "cell_type": "code",
   "execution_count": 102,
   "outputs": [],
   "source": [],
   "metadata": {
    "collapsed": false,
    "pycharm": {
     "name": "#%%\n"
    }
   }
  },
  {
   "cell_type": "code",
   "execution_count": null,
   "outputs": [],
   "source": [],
   "metadata": {
    "collapsed": false,
    "pycharm": {
     "name": "#%%\n"
    }
   }
  },
  {
   "cell_type": "code",
   "execution_count": 102,
   "outputs": [],
   "source": [],
   "metadata": {
    "collapsed": false,
    "pycharm": {
     "name": "#%%\n"
    }
   }
  },
  {
   "cell_type": "code",
   "source": [],
   "metadata": {
    "collapsed": false,
    "pycharm": {
     "name": "#%%\n"
    }
   },
   "execution_count": 102,
   "outputs": []
  },
  {
   "cell_type": "code",
   "execution_count": 102,
   "outputs": [],
   "source": [],
   "metadata": {
    "collapsed": false,
    "pycharm": {
     "name": "#%%\n"
    }
   }
  },
  {
   "cell_type": "code",
   "source": [],
   "metadata": {
    "collapsed": false,
    "pycharm": {
     "name": "#%%\n"
    }
   },
   "execution_count": 102,
   "outputs": []
  },
  {
   "cell_type": "code",
   "execution_count": null,
   "outputs": [],
   "source": [],
   "metadata": {
    "collapsed": false,
    "pycharm": {
     "name": "#%%\n"
    }
   }
  },
  {
   "cell_type": "code",
   "execution_count": 102,
   "outputs": [],
   "source": [],
   "metadata": {
    "collapsed": false,
    "pycharm": {
     "name": "#%%\n"
    }
   }
  },
  {
   "cell_type": "markdown",
   "source": [
    "As we can see, all six pairs have similar active trading\n",
    "hours. The market is relatively silent from 9 am to 4 pm.\n",
    "This may indicate that the investors of different cryptocurrencies\n",
    "are likely the same group of people.\n",
    "\n",
    "Let's look at the price movements of these cryptocurrencies:"
   ],
   "metadata": {
    "collapsed": false,
    "pycharm": {
     "name": "#%% md\n"
    }
   }
  },
  {
   "cell_type": "code",
   "execution_count": null,
   "outputs": [],
   "source": [
    "for i, pair_name in enumerate(pairs):\n",
    "    if i % 2 == 0:\n",
    "        fig, axes = plt.subplots(\n",
    "            nrows=2, #data_universe.shape[0],\n",
    "            ncols=1,\n",
    "            sharex=True\n",
    "        )\n",
    "    df = pairs[pair_name]\n",
    "    df[[\"time_key\", \"close\"]].set_index(\"time_key\").plot(\n",
    "        ax=axes[i%2],\n",
    "        title=pair_name)"
   ],
   "metadata": {
    "collapsed": false,
    "pycharm": {
     "name": "#%%\n"
    }
   }
  },
  {
   "cell_type": "markdown",
   "source": [
    "We can see that `BTC`, `ETH`, `XRP`, and `LTC` show similarity\n",
    "in price movement, but `LEO` and `UST` differ from the others.\n",
    "We can see it more clear in a correlation heatmap:"
   ],
   "metadata": {
    "collapsed": false,
    "pycharm": {
     "name": "#%% md\n"
    }
   }
  },
  {
   "cell_type": "code",
   "execution_count": null,
   "outputs": [],
   "source": [
    "all_pairs = None\n",
    "for pair_name in pairs:\n",
    "    df = pairs[pair_name][[\"time_key\", \"close\"]].set_index(\"time_key\")\n",
    "    print(pair_name, df.shape)\n",
    "    # if all_pairs is None:\n",
    "    #     all_pairs = df.copy()\n",
    "    # else:\n",
    "    #     all_pairs = all_pairs.merge(df, how=\"outer\")"
   ],
   "metadata": {
    "collapsed": false,
    "pycharm": {
     "name": "#%%\n"
    }
   }
  },
  {
   "cell_type": "code",
   "execution_count": null,
   "outputs": [],
   "source": [],
   "metadata": {
    "collapsed": false,
    "pycharm": {
     "name": "#%%\n"
    }
   }
  },
  {
   "cell_type": "code",
   "execution_count": null,
   "outputs": [],
   "source": [],
   "metadata": {
    "collapsed": false,
    "pycharm": {
     "name": "#%%\n"
    }
   }
  },
  {
   "cell_type": "code",
   "execution_count": null,
   "outputs": [],
   "source": [],
   "metadata": {
    "collapsed": false,
    "pycharm": {
     "name": "#%%\n"
    }
   }
  },
  {
   "cell_type": "code",
   "execution_count": null,
   "outputs": [],
   "source": [],
   "metadata": {
    "collapsed": false,
    "pycharm": {
     "name": "#%%\n"
    }
   }
  }
 ],
 "metadata": {
  "kernelspec": {
   "display_name": "Python 3",
   "language": "python",
   "name": "python3"
  },
  "language_info": {
   "codemirror_mode": {
    "name": "ipython",
    "version": 2
   },
   "file_extension": ".py",
   "mimetype": "text/x-python",
   "name": "python",
   "nbconvert_exporter": "python",
   "pygments_lexer": "ipython2",
   "version": "2.7.6"
  }
 },
 "nbformat": 4,
 "nbformat_minor": 0
}