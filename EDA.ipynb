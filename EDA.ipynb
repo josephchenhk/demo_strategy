{
 "cells": [
  {
   "cell_type": "markdown",
   "source": [
    "# EDA\n",
    "\n",
    "- Joseph 2022-09-01"
   ],
   "metadata": {
    "collapsed": false,
    "pycharm": {
     "name": "#%% md\n"
    }
   }
  },
  {
   "cell_type": "code",
   "execution_count": 62,
   "metadata": {
    "collapsed": true
   },
   "outputs": [],
   "source": [
    "import os\n",
    "import subprocess\n",
    "import operator\n",
    "from pathlib import Path\n",
    "from datetime import datetime\n",
    "\n",
    "from tqdm import tqdm\n",
    "import pandas as pd\n",
    "import matplotlib.pyplot as plt\n",
    "import seaborn as sns"
   ]
  },
  {
   "cell_type": "markdown",
   "source": [
    "Firstly, let's count the number of files:"
   ],
   "metadata": {
    "collapsed": false,
    "pycharm": {
     "name": "#%% md\n"
    }
   }
  },
  {
   "cell_type": "code",
   "execution_count": 23,
   "outputs": [
    {
     "name": "stdout",
     "output_type": "stream",
     "text": [
      "There are 463 csv files.\n"
     ]
    }
   ],
   "source": [
    "csv_files = os.listdir(\"data\")\n",
    "print(f\"There are {len(csv_files)} csv files.\")"
   ],
   "metadata": {
    "collapsed": false,
    "pycharm": {
     "name": "#%%\n"
    }
   }
  },
  {
   "cell_type": "markdown",
   "source": [
    "Then, we want to know the begin time and end time,\n",
    "i.e., the historical period, of the each pair/cryptocurrency.\n",
    "We create a variable `data_timerange` to store\n",
    "this information:"
   ],
   "metadata": {
    "collapsed": false,
    "pycharm": {
     "name": "#%% md\n"
    }
   }
  },
  {
   "cell_type": "code",
   "execution_count": 24,
   "outputs": [
    {
     "name": "stderr",
     "output_type": "stream",
     "text": [
      "100%|██████████| 463/463 [05:32<00:00,  1.39it/s]\n"
     ]
    }
   ],
   "source": [
    "data_timerange = {\n",
    "    \"pair_name\": [],\n",
    "    \"base\": [],\n",
    "    \"quote\": [],\n",
    "    \"start_time\": [],\n",
    "    \"end_time\": []\n",
    "}\n",
    "for csv_file in tqdm(csv_files):\n",
    "    pair_name = csv_file.replace(\".csv\", \"\")\n",
    "    if \"-\" in pair_name:\n",
    "        base_coin, quote_coin = pair_name.split(\"-\")\n",
    "    else:\n",
    "        base_coin = pair_name[:-3]\n",
    "        quote_coin = pair_name[-3:]\n",
    "\n",
    "    # Use linux command `awk` to fast analyze the data\n",
    "    cmd = \"awk -F ',' 'NR==2 {print $1} END {print $1}' data/\" + csv_file\n",
    "    p = subprocess.Popen(cmd, stdin=subprocess.PIPE, stdout=subprocess.PIPE, shell=True)\n",
    "    dt = p.stdout.read()[:-1].decode(\"utf-8\")\n",
    "    if dt.count(\"\\n\") != 1:\n",
    "        continue\n",
    "    start_str, end_str = dt.split(\"\\n\")\n",
    "    start_dt = datetime.fromtimestamp(int(start_str)/1000)\n",
    "    end_dt = datetime.fromtimestamp(int(end_str)/1000)\n",
    "\n",
    "    # Use pandas to analyze the data (less efficient)\n",
    "    # df = pd.read_csv(f\"data/{csv_file}\")\n",
    "    # if df.empty:\n",
    "    #     continue\n",
    "    # start_dt = datetime.fromtimestamp(int(df.iloc[0][\"time\"]/1000))\n",
    "    # end_dt = datetime.fromtimestamp(int(df.iloc[-1][\"time\"]/1000))\n",
    "\n",
    "    data_timerange[\"pair_name\"].append(pair_name)\n",
    "    data_timerange[\"base\"].append(base_coin)\n",
    "    data_timerange[\"quote\"].append(quote_coin)\n",
    "    data_timerange[\"start_time\"].append(start_dt)\n",
    "    data_timerange[\"end_time\"].append(end_dt)\n",
    "data_timerange = pd.DataFrame(data_timerange)"
   ],
   "metadata": {
    "collapsed": false,
    "pycharm": {
     "name": "#%%\n"
    }
   }
  },
  {
   "cell_type": "markdown",
   "source": [
    "We can peek at the result, and save it."
   ],
   "metadata": {
    "collapsed": false,
    "pycharm": {
     "name": "#%% md\n"
    }
   }
  },
  {
   "cell_type": "code",
   "execution_count": 26,
   "outputs": [
    {
     "data": {
      "text/plain": "     pair_name     base quote          start_time            end_time\n0       xrpusd      xrp   usd 2017-05-20 01:57:00 2022-08-10 19:26:00\n1       ccdust      ccd   ust 2022-02-10 18:04:00 2022-08-11 08:22:00\n2  planets-ust  planets   ust 2021-08-11 04:08:00 2021-08-29 21:14:00\n3     velo-usd     velo   usd 2021-08-11 09:28:00 2021-08-29 05:21:00\n4       batust      bat   ust 2021-09-14 21:02:00 2022-08-10 19:24:00",
      "text/html": "<div>\n<style scoped>\n    .dataframe tbody tr th:only-of-type {\n        vertical-align: middle;\n    }\n\n    .dataframe tbody tr th {\n        vertical-align: top;\n    }\n\n    .dataframe thead th {\n        text-align: right;\n    }\n</style>\n<table border=\"1\" class=\"dataframe\">\n  <thead>\n    <tr style=\"text-align: right;\">\n      <th></th>\n      <th>pair_name</th>\n      <th>base</th>\n      <th>quote</th>\n      <th>start_time</th>\n      <th>end_time</th>\n    </tr>\n  </thead>\n  <tbody>\n    <tr>\n      <th>0</th>\n      <td>xrpusd</td>\n      <td>xrp</td>\n      <td>usd</td>\n      <td>2017-05-20 01:57:00</td>\n      <td>2022-08-10 19:26:00</td>\n    </tr>\n    <tr>\n      <th>1</th>\n      <td>ccdust</td>\n      <td>ccd</td>\n      <td>ust</td>\n      <td>2022-02-10 18:04:00</td>\n      <td>2022-08-11 08:22:00</td>\n    </tr>\n    <tr>\n      <th>2</th>\n      <td>planets-ust</td>\n      <td>planets</td>\n      <td>ust</td>\n      <td>2021-08-11 04:08:00</td>\n      <td>2021-08-29 21:14:00</td>\n    </tr>\n    <tr>\n      <th>3</th>\n      <td>velo-usd</td>\n      <td>velo</td>\n      <td>usd</td>\n      <td>2021-08-11 09:28:00</td>\n      <td>2021-08-29 05:21:00</td>\n    </tr>\n    <tr>\n      <th>4</th>\n      <td>batust</td>\n      <td>bat</td>\n      <td>ust</td>\n      <td>2021-09-14 21:02:00</td>\n      <td>2022-08-10 19:24:00</td>\n    </tr>\n  </tbody>\n</table>\n</div>"
     },
     "execution_count": 26,
     "metadata": {},
     "output_type": "execute_result"
    }
   ],
   "source": [
    "data_timerange.to_csv(\"EDA_results/data_timerange.csv\")\n",
    "data_timerange.head()"
   ],
   "metadata": {
    "collapsed": false,
    "pycharm": {
     "name": "#%%\n"
    }
   }
  },
  {
   "cell_type": "code",
   "execution_count": 26,
   "outputs": [],
   "source": [],
   "metadata": {
    "collapsed": false,
    "pycharm": {
     "name": "#%%\n"
    }
   }
  },
  {
   "cell_type": "markdown",
   "source": [
    "To develop a meaningful trading strategy, sufficient\n",
    "historical data must be available.\n",
    "Since many of the cryptocurrencies either emerge late\n",
    "or fail to survive, they are not qualified as the\n",
    "trading instruments. Here we are only interested in\n",
    "those that have a complete history from 2020-01-01 to 2022-08-10.\n",
    "\n",
    "We are going to use 2 years' historical data (\n",
    "2020-01-01 - 2021-12-31) as the training dataset to develop our\n",
    "strategy; while leaving the 8 months' data (2022-01-01 -\n",
    "2022-08-10) as the testing dataset. We will develop a\n",
    "strategy denominated on`USD`, therefore we\n",
    "only consider`USD`as the quote currency.\n",
    "\n",
    "We can find out the number of cryptocurrency that satisfies\n",
    "these criteria is 73:"
   ],
   "metadata": {
    "collapsed": false,
    "pycharm": {
     "name": "#%% md\n"
    }
   }
  },
  {
   "cell_type": "code",
   "execution_count": 27,
   "outputs": [
    {
     "name": "stdout",
     "output_type": "stream",
     "text": [
      "Number of pairs that are qualified: 73\n"
     ]
    }
   ],
   "source": [
    "data_timerange_selected = data_timerange[\n",
    "    (data_timerange.start_time <= \"2020-01-01\")\n",
    "    & (data_timerange.end_time >= \"2022-08-10\")\n",
    "    & (data_timerange.quote == \"usd\")\n",
    "].reset_index(inplace=False)\n",
    "print(f\"Number of pairs that are qualified: {data_timerange_selected.shape[0]}\")"
   ],
   "metadata": {
    "collapsed": false,
    "pycharm": {
     "name": "#%%\n"
    }
   }
  },
  {
   "cell_type": "code",
   "execution_count": 29,
   "outputs": [],
   "source": [],
   "metadata": {
    "collapsed": false,
    "pycharm": {
     "name": "#%%\n"
    }
   }
  },
  {
   "cell_type": "markdown",
   "source": [
    "Among the 73 pairs of cryptocurrencies, they are not being\n",
    "traded equally actively. We should expect some of them\n",
    "are highly liquid, while some of them are traded less\n",
    "frequently. A security that is traded less frequently\n",
    "means there might not be sufficient historical data for\n",
    "us to develop a meaningful strategy (as there could\n",
    "be many`NAN`values, i.e., missing values, in the dataset).\n",
    "\n",
    "Hence we need to find out those with high liquidity.\n",
    "To this end, let's measure the average number of records\n",
    "within these selected 73 pairs:\n"
   ],
   "metadata": {
    "collapsed": false,
    "pycharm": {
     "name": "#%% md\n"
    }
   }
  },
  {
   "cell_type": "code",
   "execution_count": 64,
   "outputs": [
    {
     "name": "stderr",
     "output_type": "stream",
     "text": [
      "73it [02:32,  2.09s/it]\n"
     ]
    },
    {
     "data": {
      "text/plain": "{'btcusd': 59.387036064425764,\n 'ethusd': 57.084252450980394,\n 'xrpusd': 53.662421218487395,\n 'leousd': 50.471288515406165,\n 'ustusd': 49.32274159663866,\n 'ltcusd': 46.442970938375346,\n 'eosusd': 38.16032037815126,\n 'trxusd': 32.464635854341736,\n 'iotusd': 29.858674719887954,\n 'omgusd': 28.966736694677873,\n 'dshusd': 28.289522058823533,\n 'xtzusd': 28.125919117647058,\n 'neousd': 26.996104691876752,\n 'zecusd': 26.854429271708682,\n 'xlmusd': 25.863489145658264,\n 'etcusd': 25.144826680672267,\n 'gtxusd': 24.986607142857142,\n 'xmrusd': 23.228203781512605,\n 'bsvusd': 23.174632352941178,\n 'algusd': 22.860294117647058,\n 'vsyusd': 19.907256652661065,\n 'zrxusd': 19.524903711484594,\n 'atousd': 19.069152661064425,\n 'uosusd': 18.80400910364146,\n 'ampusd': 15.793723739495798,\n 'bttusd': 12.78532037815126,\n 'clousd': 12.084033613445378,\n 'daiusd': 11.967612044817926,\n 'iqxusd': 11.579262955182074,\n 'udcusd': 11.091123949579831,\n 'vetusd': 10.877494747899158,\n 'eutusd': 10.664259453781513,\n 'xvgusd': 10.48984593837535,\n 'gntusd': 10.468356092436975,\n 'batusd': 10.16762955182073,\n 'etpusd': 9.949317226890757,\n 'mnausd': 9.83998599439776,\n 'dgbusd': 7.92375700280112,\n 'rbtusd': 7.8771008403361344,\n 'stjusd': 7.61983543417367,\n 'datusd': 7.567270658263305,\n 'pnkusd': 7.367997198879551,\n 'lrcusd': 7.258972338935575,\n 'wbtusd': 7.2476803221288515,\n 'mlnusd': 7.1379551820728295,\n 'mkrusd': 6.860469187675069,\n 'bftusd': 6.745667016806723,\n 'zcnusd': 6.604735644257704,\n 'edousd': 6.593224789915966,\n 'tsdusd': 6.122198879551821,\n 'repusd': 6.059436274509804,\n 'utkusd': 5.715642507002801,\n 'kanusd': 5.692577030812324,\n 'xrausd': 5.683517156862745,\n 'gnousd': 5.284838935574229,\n 'sntusd': 5.215992647058823,\n 'btgusd': 4.706013655462185,\n 'kncusd': 4.434873949579832,\n 'sanusd': 4.049807422969187,\n 'antusd': 3.6839548319327733,\n 'qtmusd': 3.428046218487395,\n 'zilusd': 3.02437850140056,\n 'chzusd': 2.8411239495798317,\n 'enjusd': 2.722732843137255,\n 'requsd': 2.036589635854342,\n 'waxusd': 1.862876400560224,\n 'rrtusd': 1.6500350140056022,\n 'fttusd': 1.446078431372549,\n 'funusd': 0.8742559523809524,\n 'veeusd': 0.61046918767507,\n 'pasusd': 0.5803571428571429,\n 'bntusd': 0.5375962885154062,\n 'lymusd': 0.5270920868347339}"
     },
     "execution_count": 64,
     "metadata": {},
     "output_type": "execute_result"
    }
   ],
   "source": [
    "start_dt = datetime(2020, 1, 1)\n",
    "end_dt = datetime(2022, 8, 10)\n",
    "num_days = (end_dt - start_dt).days\n",
    "start_ts = start_dt.timestamp() * 1000\n",
    "end_ts = end_dt.timestamp() * 1000\n",
    "data_timerange_selected_count = {}\n",
    "for i, row in tqdm(data_timerange_selected.iterrows()):\n",
    "    cmd = (\n",
    "        f\"awk '$1 >= {start_ts} && $1 <= {end_ts} \"\n",
    "        \"{ count++ } END { print count }' \"\n",
    "        f\"data/{row.pair_name}.csv\"\n",
    "    )\n",
    "    p = subprocess.Popen(cmd, stdin=subprocess.PIPE, stdout=subprocess.PIPE, shell=True)\n",
    "    res = p.stdout.read()[:-1].decode(\"utf-8\")\n",
    "    # Average number of 1min bar in 1 hour\n",
    "    avg_num_bars = float(res) / num_days / 24.0\n",
    "    data_timerange_selected_count[row.pair_name] = avg_num_bars\n",
    "\n",
    "sorted_data_timerange_selected_count = dict(\n",
    "    sorted(data_timerange_selected_count.items(),\n",
    "           key=operator.itemgetter(1),\n",
    "           reverse=True)\n",
    ")\n",
    "sorted_data_timerange_selected_count"
   ],
   "metadata": {
    "collapsed": false,
    "pycharm": {
     "name": "#%%\n"
    }
   }
  },
  {
   "cell_type": "code",
   "execution_count": 63,
   "outputs": [
    {
     "data": {
      "text/plain": "{'btcusd': 1425.2888655462184,\n 'ethusd': 1370.0220588235295,\n 'xrpusd': 1287.8981092436975,\n 'leousd': 1211.310924369748,\n 'ustusd': 1183.7457983193278,\n 'ltcusd': 1114.6313025210084,\n 'eosusd': 915.8476890756302,\n 'trxusd': 779.1512605042017,\n 'iotusd': 716.6081932773109,\n 'omgusd': 695.2016806722689,\n 'dshusd': 678.9485294117648,\n 'xtzusd': 675.0220588235294,\n 'neousd': 647.906512605042,\n 'zecusd': 644.5063025210084,\n 'xlmusd': 620.7237394957983,\n 'etcusd': 603.4758403361344,\n 'gtxusd': 599.6785714285714,\n 'xmrusd': 557.4768907563025,\n 'bsvusd': 556.1911764705883,\n 'algusd': 548.6470588235294,\n 'vsyusd': 477.77415966386553,\n 'zrxusd': 468.5976890756302,\n 'atousd': 457.65966386554624,\n 'uosusd': 451.296218487395,\n 'ampusd': 379.04936974789916,\n 'bttusd': 306.8476890756302,\n 'clousd': 290.01680672268907,\n 'daiusd': 287.2226890756302,\n 'iqxusd': 277.9023109243698,\n 'udcusd': 266.18697478991595,\n 'vetusd': 261.0598739495798,\n 'eutusd': 255.9422268907563,\n 'xvgusd': 251.7563025210084,\n 'gntusd': 251.2405462184874,\n 'batusd': 244.0231092436975,\n 'etpusd': 238.78361344537817,\n 'mnausd': 236.1596638655462,\n 'dgbusd': 190.17016806722688,\n 'rbtusd': 189.05042016806723,\n 'stjusd': 182.87605042016807,\n 'datusd': 181.61449579831933,\n 'pnkusd': 176.83193277310923,\n 'lrcusd': 174.2153361344538,\n 'wbtusd': 173.94432773109244,\n 'mlnusd': 171.3109243697479,\n 'mkrusd': 164.65126050420167,\n 'bftusd': 161.89600840336135,\n 'zcnusd': 158.5136554621849,\n 'edousd': 158.23739495798318,\n 'tsdusd': 146.9327731092437,\n 'repusd': 145.4264705882353,\n 'utkusd': 137.17542016806723,\n 'kanusd': 136.6218487394958,\n 'xrausd': 136.40441176470588,\n 'gnousd': 126.83613445378151,\n 'sntusd': 125.18382352941177,\n 'btgusd': 112.94432773109244,\n 'kncusd': 106.43697478991596,\n 'sanusd': 97.1953781512605,\n 'antusd': 88.41491596638656,\n 'qtmusd': 82.27310924369748,\n 'zilusd': 72.58508403361344,\n 'chzusd': 68.18697478991596,\n 'enjusd': 65.34558823529412,\n 'requsd': 48.878151260504204,\n 'waxusd': 44.70903361344538,\n 'rrtusd': 39.60084033613445,\n 'fttusd': 34.705882352941174,\n 'funusd': 20.982142857142858,\n 'veeusd': 14.65126050420168,\n 'pasusd': 13.928571428571429,\n 'bntusd': 12.902310924369749,\n 'lymusd': 12.650210084033613}"
     },
     "execution_count": 63,
     "metadata": {},
     "output_type": "execute_result"
    }
   ],
   "source": [],
   "metadata": {
    "collapsed": false,
    "pycharm": {
     "name": "#%%\n"
    }
   }
  },
  {
   "cell_type": "code",
   "execution_count": 65,
   "outputs": [
    {
     "data": {
      "text/plain": "'129857'"
     },
     "execution_count": 65,
     "metadata": {},
     "output_type": "execute_result"
    }
   ],
   "source": [
    "res"
   ],
   "metadata": {
    "collapsed": false,
    "pycharm": {
     "name": "#%%\n"
    }
   }
  },
  {
   "cell_type": "code",
   "execution_count": 41,
   "outputs": [
    {
     "data": {
      "text/plain": "1577808000.0"
     },
     "execution_count": 41,
     "metadata": {},
     "output_type": "execute_result"
    }
   ],
   "source": [
    "start_ts"
   ],
   "metadata": {
    "collapsed": false,
    "pycharm": {
     "name": "#%%\n"
    }
   }
  },
  {
   "cell_type": "code",
   "execution_count": null,
   "outputs": [],
   "source": [],
   "metadata": {
    "collapsed": false,
    "pycharm": {
     "name": "#%%\n"
    }
   }
  },
  {
   "cell_type": "markdown",
   "source": [
    "Prepare data files for backtest:"
   ],
   "metadata": {
    "collapsed": false,
    "pycharm": {
     "name": "#%% md\n"
    }
   }
  },
  {
   "cell_type": "code",
   "execution_count": 34,
   "outputs": [],
   "source": [
    "Path(\"clean_data/k_line/K_1M\").mkdir(parents=True, exist_ok=True)"
   ],
   "metadata": {
    "collapsed": false,
    "pycharm": {
     "name": "#%%\n"
    }
   }
  },
  {
   "cell_type": "code",
   "execution_count": 35,
   "outputs": [
    {
     "ename": "NameError",
     "evalue": "name 'data_universe' is not defined",
     "output_type": "error",
     "traceback": [
      "\u001B[0;31m---------------------------------------------------------------------------\u001B[0m",
      "\u001B[0;31mNameError\u001B[0m                                 Traceback (most recent call last)",
      "\u001B[0;32m<ipython-input-35-cc8dacedbdb7>\u001B[0m in \u001B[0;36m<module>\u001B[0;34m\u001B[0m\n\u001B[1;32m      1\u001B[0m \u001B[0;34m\u001B[0m\u001B[0m\n\u001B[0;32m----> 2\u001B[0;31m \u001B[0;32mfor\u001B[0m \u001B[0mi\u001B[0m\u001B[0;34m,\u001B[0m \u001B[0mrow\u001B[0m \u001B[0;32min\u001B[0m \u001B[0mtqdm\u001B[0m\u001B[0;34m(\u001B[0m\u001B[0mdata_universe\u001B[0m\u001B[0;34m.\u001B[0m\u001B[0miterrows\u001B[0m\u001B[0;34m(\u001B[0m\u001B[0;34m)\u001B[0m\u001B[0;34m)\u001B[0m\u001B[0;34m:\u001B[0m\u001B[0;34m\u001B[0m\u001B[0;34m\u001B[0m\u001B[0m\n\u001B[0m\u001B[1;32m      3\u001B[0m     \u001B[0mdf\u001B[0m \u001B[0;34m=\u001B[0m \u001B[0mpd\u001B[0m\u001B[0;34m.\u001B[0m\u001B[0mread_csv\u001B[0m\u001B[0;34m(\u001B[0m\u001B[0;34mf\"data/{row.pair_name}.csv\"\u001B[0m\u001B[0;34m)\u001B[0m\u001B[0;34m\u001B[0m\u001B[0;34m\u001B[0m\u001B[0m\n\u001B[1;32m      4\u001B[0m     \u001B[0mdf\u001B[0m\u001B[0;34m[\u001B[0m\u001B[0;34m\"time_key\"\u001B[0m\u001B[0;34m]\u001B[0m \u001B[0;34m=\u001B[0m \u001B[0mdf\u001B[0m\u001B[0;34m.\u001B[0m\u001B[0mtime\u001B[0m\u001B[0;34m.\u001B[0m\u001B[0mapply\u001B[0m\u001B[0;34m(\u001B[0m\u001B[0;32mlambda\u001B[0m \u001B[0mx\u001B[0m\u001B[0;34m:\u001B[0m \u001B[0mdatetime\u001B[0m\u001B[0;34m.\u001B[0m\u001B[0mfromtimestamp\u001B[0m\u001B[0;34m(\u001B[0m\u001B[0mint\u001B[0m\u001B[0;34m(\u001B[0m\u001B[0mx\u001B[0m\u001B[0;34m/\u001B[0m\u001B[0;36m1000\u001B[0m\u001B[0;34m)\u001B[0m\u001B[0;34m)\u001B[0m\u001B[0;34m)\u001B[0m\u001B[0;34m\u001B[0m\u001B[0;34m\u001B[0m\u001B[0m\n\u001B[1;32m      5\u001B[0m     \u001B[0mdf\u001B[0m\u001B[0;34m[\u001B[0m\u001B[0;34m\"date\"\u001B[0m\u001B[0;34m]\u001B[0m \u001B[0;34m=\u001B[0m \u001B[0mdf\u001B[0m\u001B[0;34m.\u001B[0m\u001B[0mtime_key\u001B[0m\u001B[0;34m.\u001B[0m\u001B[0mapply\u001B[0m\u001B[0;34m(\u001B[0m\u001B[0;32mlambda\u001B[0m \u001B[0mx\u001B[0m\u001B[0;34m:\u001B[0m \u001B[0mx\u001B[0m\u001B[0;34m.\u001B[0m\u001B[0mdate\u001B[0m\u001B[0;34m(\u001B[0m\u001B[0;34m)\u001B[0m\u001B[0;34m)\u001B[0m\u001B[0;34m\u001B[0m\u001B[0;34m\u001B[0m\u001B[0m\n",
      "\u001B[0;31mNameError\u001B[0m: name 'data_universe' is not defined"
     ]
    }
   ],
   "source": [
    "for i, row in tqdm(data_universe.iterrows()):\n",
    "    df = pd.read_csv(f\"data/{row.pair_name}.csv\")\n",
    "    df[\"time_key\"] = df.time.apply(lambda x: datetime.fromtimestamp(int(x/1000)))\n",
    "    df[\"date\"] = df.time_key.apply(lambda x: x.date())\n",
    "    df = df[\n",
    "        (df.time_key >= \"2020-01-01\")\n",
    "        & (df.time_key <= \"2022-08-10\")\n",
    "    ]\n",
    "    # print(f\"{i}. {row.pair_name}: {df.shape}\")\n",
    "    for date_ in df.date.unique():\n",
    "        df_daily = df[df.date == date_][\n",
    "            [\"time_key\", \"open\", \"high\", \"low\", \"close\", \"volume\"]\n",
    "        ].reset_index(drop=True)\n",
    "        date_str = date_.strftime(\"%Y-%m-%d\")\n",
    "        Path(f\"clean_data/k_line/K_1M/{row.pair_name}\").mkdir(parents=True, exist_ok=True)\n",
    "        df_daily.to_csv(f\"clean_data/k_line/K_1M/{row.pair_name}/{date_str}.csv\",\n",
    "                        index=False)"
   ],
   "metadata": {
    "collapsed": false,
    "pycharm": {
     "name": "#%%\n"
    }
   }
  },
  {
   "cell_type": "code",
   "execution_count": null,
   "outputs": [],
   "source": [],
   "metadata": {
    "collapsed": false,
    "pycharm": {
     "name": "#%%\n"
    }
   }
  },
  {
   "cell_type": "markdown",
   "source": [
    "We want to see the active trading hours of each coin."
   ],
   "metadata": {
    "collapsed": false,
    "pycharm": {
     "name": "#%% md\n"
    }
   }
  },
  {
   "cell_type": "code",
   "execution_count": null,
   "outputs": [],
   "source": [
    "num_bars_in_1hr = {}\n",
    "for i, row in tqdm(data_timerange_selected.iterrows()):\n",
    "    # if i > 7:\n",
    "    #     break\n",
    "    if i % 4 == 0:\n",
    "        fig, axes = plt.subplots(\n",
    "            nrows=4, #data_universe.shape[0],\n",
    "            ncols=1,\n",
    "            sharex=True\n",
    "        )\n",
    "    df = pd.read_csv(f\"data/{row.pair_name}.csv\")\n",
    "    df[\"time_key\"] = df.time.apply(lambda x: datetime.fromtimestamp(int(x/1000)))\n",
    "    df[\"date\"] = df.time_key.apply(lambda x: x.date())\n",
    "    df[\"hour\"] = df.time_key.apply(lambda x: x.hour)\n",
    "    df = df[\n",
    "        (df.time_key >= \"2020-01-01\")\n",
    "        & (df.time_key <= \"2022-08-10\")\n",
    "    ]\n",
    "    num_days = len(df.date.unique())\n",
    "    # Average number of bars in that particular hour\n",
    "    df1 = df.groupby(\"hour\").count().time_key / num_days\n",
    "    df1.plot(ax=axes[i%4], title=f\"{row.pair_name}\")\n",
    "    num_bars_in_1hr[row.pair_name] = {\n",
    "        \"max\": df1.max(),\n",
    "        \"min\": df1.min(),\n",
    "        \"mean\": df1.mean(),\n",
    "        \"median\": df1.median(),\n",
    "        \"std\": df1.std()\n",
    "    }\n",
    "num_bars_in_1hr = pd.DataFrame(num_bars_in_1hr).T\n",
    "num_bars_in_1hr = num_bars_in_1hr.sort_values(by=\"min\", ascending=False)\n",
    "num_bars_in_1hr"
   ],
   "metadata": {
    "collapsed": false,
    "pycharm": {
     "name": "#%%\n"
    }
   }
  },
  {
   "cell_type": "code",
   "execution_count": null,
   "outputs": [],
   "source": [],
   "metadata": {
    "collapsed": false,
    "pycharm": {
     "name": "#%%\n"
    }
   }
  },
  {
   "cell_type": "code",
   "execution_count": null,
   "outputs": [],
   "source": [],
   "metadata": {
    "collapsed": false,
    "pycharm": {
     "name": "#%%\n"
    }
   }
  },
  {
   "cell_type": "markdown",
   "source": [
    "We can see that `BTC` and `ETH` are trading most actively; while\n",
    "coins such as `LYM` and `PAS` are almost inactive. The table shows\n",
    "that there are 59 bars (1-min OHLCV) in every hour for `BTC`, and 57\n",
    "bars for `ETH`, which indicates high liquidity for these two\n",
    "cryptocurrencies. The less this number becomes, the more illiquid\n",
    "it means. Let's list the top 10 coins:\n"
   ],
   "metadata": {
    "collapsed": false,
    "pycharm": {
     "name": "#%% md\n"
    }
   }
  },
  {
   "cell_type": "code",
   "execution_count": null,
   "outputs": [],
   "source": [
    "num_bars_in_1hr.head(10)"
   ],
   "metadata": {
    "collapsed": false,
    "pycharm": {
     "name": "#%%\n"
    }
   }
  },
  {
   "cell_type": "markdown",
   "source": [
    "As we can see, only the first 6 pairs are sufficient liquid (with\n",
    "more than 45 bars in an hour). There is a big gap between `LTC`\n",
    "and `EOS`. In order to guarantee the liquidity of trading\n",
    "instruments, we limit our trading universe to the top 6 cryptocurrency\n",
    "pairs, i.e., `BTCUSD`, `ETHUSD`, `XRPUSD`, `LEOUSD`, `USTUSD`,\n",
    "and `LTCUSD`.\n",
    "\n",
    "We can take a closer look at these coins:"
   ],
   "metadata": {
    "collapsed": false,
    "pycharm": {
     "name": "#%% md\n"
    }
   }
  },
  {
   "cell_type": "code",
   "execution_count": null,
   "outputs": [],
   "source": [],
   "metadata": {
    "collapsed": false,
    "pycharm": {
     "name": "#%%\n"
    }
   }
  },
  {
   "cell_type": "code",
   "execution_count": null,
   "outputs": [],
   "source": [
    "pairs = {\n",
    "    \"btcusd\": None,\n",
    "    \"ethusd\": None,\n",
    "    \"xrpusd\": None,\n",
    "    \"leousd\": None,\n",
    "    \"ustusd\": None,\n",
    "    \"ltcusd\": None\n",
    "}\n",
    "for i, pair_name in enumerate(pairs):\n",
    "    print(i, i%2, pair_name)\n",
    "    if i % 2 == 0:\n",
    "        fig, axes = plt.subplots(\n",
    "            nrows=2, #data_universe.shape[0],\n",
    "            ncols=1,\n",
    "            sharex=True\n",
    "        )\n",
    "    df = pd.read_csv(f\"data/{pair_name}.csv\")\n",
    "    df[\"time_key\"] = df.time.apply(lambda x: datetime.fromtimestamp(int(x/1000)))\n",
    "    df[\"date\"] = df.time_key.apply(lambda x: x.date())\n",
    "    df[\"hour\"] = df.time_key.apply(lambda x: x.hour)\n",
    "    df = df[\n",
    "        (df.time_key >= \"2020-01-01\")\n",
    "        & (df.time_key <= \"2022-08-10\")\n",
    "    ]\n",
    "    pairs[pair_name] = df.copy()\n",
    "    num_days = len(df.date.unique())\n",
    "    # Average number of bars in that particular hour\n",
    "    df1 = df.groupby(\"hour\").count().time_key / num_days\n",
    "    df1.plot(ax=axes[i%2], title=f\"{pair_name}\")"
   ],
   "metadata": {
    "collapsed": false,
    "pycharm": {
     "name": "#%%\n"
    }
   }
  },
  {
   "cell_type": "markdown",
   "source": [
    "As we can see, all six pairs have similar active trading\n",
    "hours. The market is relatively silent from 9 am to 4 pm.\n",
    "This may indicate that the investors of different cryptocurrencies\n",
    "are likely the same group of people.\n",
    "\n",
    "Let's look at the price movements of these cryptocurrencies:"
   ],
   "metadata": {
    "collapsed": false,
    "pycharm": {
     "name": "#%% md\n"
    }
   }
  },
  {
   "cell_type": "code",
   "execution_count": null,
   "outputs": [],
   "source": [
    "for i, pair_name in enumerate(pairs):\n",
    "    if i % 2 == 0:\n",
    "        fig, axes = plt.subplots(\n",
    "            nrows=2, #data_universe.shape[0],\n",
    "            ncols=1,\n",
    "            sharex=True\n",
    "        )\n",
    "    df = pairs[pair_name]\n",
    "    df[[\"time_key\", \"close\"]].set_index(\"time_key\").plot(\n",
    "        ax=axes[i%2],\n",
    "        title=pair_name)"
   ],
   "metadata": {
    "collapsed": false,
    "pycharm": {
     "name": "#%%\n"
    }
   }
  },
  {
   "cell_type": "markdown",
   "source": [
    "We can see that `BTC`, `ETH`, `XRP`, and `LTC` show similarity\n",
    "in price movement, but `LEO` and `UST` differ from the others.\n",
    "We can see it more clear in a correlation heatmap:"
   ],
   "metadata": {
    "collapsed": false,
    "pycharm": {
     "name": "#%% md\n"
    }
   }
  },
  {
   "cell_type": "code",
   "execution_count": null,
   "outputs": [],
   "source": [
    "all_pairs = None\n",
    "for pair_name in pairs:\n",
    "    df = pairs[pair_name][[\"time_key\", \"close\"]].set_index(\"time_key\")\n",
    "    print(pair_name, df.shape)\n",
    "    # if all_pairs is None:\n",
    "    #     all_pairs = df.copy()\n",
    "    # else:\n",
    "    #     all_pairs = all_pairs.merge(df, how=\"outer\")"
   ],
   "metadata": {
    "collapsed": false,
    "pycharm": {
     "name": "#%%\n"
    }
   }
  },
  {
   "cell_type": "code",
   "execution_count": null,
   "outputs": [],
   "source": [],
   "metadata": {
    "collapsed": false,
    "pycharm": {
     "name": "#%%\n"
    }
   }
  },
  {
   "cell_type": "code",
   "execution_count": null,
   "outputs": [],
   "source": [],
   "metadata": {
    "collapsed": false,
    "pycharm": {
     "name": "#%%\n"
    }
   }
  },
  {
   "cell_type": "code",
   "execution_count": null,
   "outputs": [],
   "source": [],
   "metadata": {
    "collapsed": false,
    "pycharm": {
     "name": "#%%\n"
    }
   }
  },
  {
   "cell_type": "code",
   "execution_count": null,
   "outputs": [],
   "source": [],
   "metadata": {
    "collapsed": false,
    "pycharm": {
     "name": "#%%\n"
    }
   }
  }
 ],
 "metadata": {
  "kernelspec": {
   "display_name": "Python 3",
   "language": "python",
   "name": "python3"
  },
  "language_info": {
   "codemirror_mode": {
    "name": "ipython",
    "version": 2
   },
   "file_extension": ".py",
   "mimetype": "text/x-python",
   "name": "python",
   "nbconvert_exporter": "python",
   "pygments_lexer": "ipython2",
   "version": "2.7.6"
  }
 },
 "nbformat": 4,
 "nbformat_minor": 0
}