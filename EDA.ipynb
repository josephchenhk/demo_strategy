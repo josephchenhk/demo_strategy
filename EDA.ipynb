{
 "cells": [
  {
   "cell_type": "markdown",
   "source": [
    "# EDA\n",
    "\n",
    "- Joseph 2022-09-01"
   ],
   "metadata": {
    "collapsed": false,
    "pycharm": {
     "name": "#%% md\n"
    }
   }
  },
  {
   "cell_type": "code",
   "execution_count": null,
   "metadata": {
    "collapsed": true
   },
   "outputs": [],
   "source": [
    "import os\n",
    "import subprocess\n",
    "from pathlib import Path\n",
    "from datetime import datetime\n",
    "\n",
    "from tqdm import tqdm\n",
    "import pandas as pd\n",
    "import matplotlib.pyplot as plt\n",
    "import seaborn as sns"
   ]
  },
  {
   "cell_type": "code",
   "execution_count": null,
   "outputs": [],
   "source": [
    "# Count the number of files\n",
    "csv_files = os.listdir(\"data\")\n",
    "print(f\"There are {len(csv_files)} csv files.\")"
   ],
   "metadata": {
    "collapsed": false,
    "pycharm": {
     "name": "#%%\n"
    }
   }
  },
  {
   "cell_type": "code",
   "execution_count": null,
   "outputs": [],
   "source": [
    "# Use linux command `awk` to fast analyze the data\n",
    "\n",
    "data_timerange = {\n",
    "    \"pair_name\": [],\n",
    "    \"base\": [],\n",
    "    \"quote\": [],\n",
    "    \"start_time\": [],\n",
    "    \"end_time\": []\n",
    "}\n",
    "for csv_file in tqdm(csv_files):\n",
    "    pair_name = csv_file.replace(\".csv\", \"\")\n",
    "    if \"-\" in pair_name:\n",
    "        base_coin, quote_coin = pair_name.split(\"-\")\n",
    "    else:\n",
    "        base_coin = pair_name[:-3]\n",
    "        quote_coin = pair_name[-3:]\n",
    "\n",
    "    cmd = \"awk -F ',' 'NR==2 {print $1} END {print $1}' data/\" + csv_file\n",
    "    p = subprocess.Popen(cmd, stdin=subprocess.PIPE, stdout=subprocess.PIPE, shell=True)\n",
    "    dt = p.stdout.read()[:-1].decode(\"utf-8\")\n",
    "    if dt.count(\"\\n\") != 1:\n",
    "        continue\n",
    "    start_str, end_str = dt.split(\"\\n\")\n",
    "    start_dt = datetime.fromtimestamp(int(start_str)/1000)\n",
    "    end_dt = datetime.fromtimestamp(int(end_str)/1000)\n",
    "\n",
    "    data_timerange[\"pair_name\"].append(pair_name)\n",
    "    data_timerange[\"base\"].append(base_coin)\n",
    "    data_timerange[\"quote\"].append(quote_coin)\n",
    "    data_timerange[\"start_time\"].append(start_dt)\n",
    "    data_timerange[\"end_time\"].append(end_dt)\n",
    "data_timerange = pd.DataFrame(data_timerange)"
   ],
   "metadata": {
    "collapsed": false,
    "pycharm": {
     "name": "#%%\n"
    }
   }
  },
  {
   "cell_type": "code",
   "execution_count": null,
   "outputs": [],
   "source": [],
   "metadata": {
    "collapsed": false,
    "pycharm": {
     "name": "#%%\n"
    }
   }
  },
  {
   "cell_type": "markdown",
   "source": [
    "# Use pandas to analyze the data (less efficient)\n",
    "\n",
    "data_timerange = {\n",
    "    \"pair_name\": [],\n",
    "    \"base\": [],\n",
    "    \"quote\": [],\n",
    "    \"start_time\": [],\n",
    "    \"end_time\": []\n",
    "}\n",
    "for csv_file in csv_files:\n",
    "    pair_name = csv_file.replace(\".csv\", \"\")\n",
    "    if \"-\" in pair_name:\n",
    "        base_coin, quote_coin = pair_name.split(\"-\")\n",
    "    else:\n",
    "        base_coin = pair_name[:-3]\n",
    "        quote_coin = pair_name[-3:]\n",
    "    df = pd.read_csv(f\"data/{csv_file}\")\n",
    "    if df.empty:\n",
    "        continue\n",
    "    start_dt = datetime.fromtimestamp(int(df.iloc[0][\"time\"]/1000))\n",
    "    end_dt = datetime.fromtimestamp(int(df.iloc[-1][\"time\"]/1000))\n",
    "    print(f\"{pair_name}: {start_dt} - {end_dt}\")\n",
    "    data_timerange[\"pair_name\"].append(pair_name)\n",
    "    data_timerange[\"base\"].append(base_coin)\n",
    "    data_timerange[\"quote\"].append(quote_coin)\n",
    "    data_timerange[\"start_time\"].append(start_dt)\n",
    "    data_timerange[\"end_time\"].append(end_dt)\n",
    "data_timerange = pd.DataFrame(data_timerange)"
   ],
   "metadata": {
    "collapsed": false,
    "pycharm": {
     "name": "#%% md\n"
    }
   }
  },
  {
   "cell_type": "code",
   "execution_count": null,
   "outputs": [],
   "source": [
    "data_timerange.head()"
   ],
   "metadata": {
    "collapsed": false,
    "pycharm": {
     "name": "#%%\n"
    }
   }
  },
  {
   "cell_type": "code",
   "execution_count": null,
   "outputs": [],
   "source": [
    "data_timerange.to_csv(\"EDA_results/data_timerange.csv\")"
   ],
   "metadata": {
    "collapsed": false,
    "pycharm": {
     "name": "#%%\n"
    }
   }
  },
  {
   "cell_type": "markdown",
   "source": [
    "To develop a meaningful trading strategy, sufficient\n",
    "historical data must be available.\n",
    "Since many of the cryptocurrencies either emerge late\n",
    "or fail to survive, they are not qualified as the\n",
    "trading instruments. Here we are only interested in\n",
    "those that have a complete history from 2020-01-01 to 2022-08-10.\n",
    "\n",
    "We are going to use 2 years' historical data (\n",
    "2020-01-01 - 2021-12-31) as the training dataset to develop our\n",
    "strategy; while leaving the 8 months' data (2022-01-01 -\n",
    "2022-08-10) as the testing dataset. We will develop a\n",
    "strategy denominated on `USD`, therefore we\n",
    "only consider `USD` as the quote currency.\n",
    "\n",
    "We can find out the number of cryptocurrency that satisfies\n",
    "these criteria is 73:"
   ],
   "metadata": {
    "collapsed": false,
    "pycharm": {
     "name": "#%% md\n"
    }
   }
  },
  {
   "cell_type": "code",
   "execution_count": 21,
   "outputs": [
    {
     "name": "stdout",
     "output_type": "stream",
     "text": [
      "Number of pairs that are qualified: 73\n"
     ]
    }
   ],
   "source": [
    "data_timerange_selected = data_timerange[\n",
    "    (data_timerange.start_time <= \"2020-01-01\")\n",
    "    & (data_timerange.end_time >= \"2022-08-10\")\n",
    "    & (data_timerange.quote == \"usd\")\n",
    "].reset_index(inplace=False)\n",
    "print(f\"Number of pairs that are qualified: {data_timerange_selected.shape[0]}\")"
   ],
   "metadata": {
    "collapsed": false,
    "pycharm": {
     "name": "#%%\n"
    }
   }
  },
  {
   "cell_type": "code",
   "execution_count": null,
   "outputs": [],
   "source": [],
   "metadata": {
    "collapsed": false,
    "pycharm": {
     "name": "#%%\n"
    }
   }
  },
  {
   "cell_type": "markdown",
   "source": [
    "Prepare data files for backtest:"
   ],
   "metadata": {
    "collapsed": false,
    "pycharm": {
     "name": "#%% md\n"
    }
   }
  },
  {
   "cell_type": "code",
   "execution_count": null,
   "outputs": [],
   "source": [
    "Path(\"clean_data/k_line/K_1M\").mkdir(parents=True, exist_ok=True)"
   ],
   "metadata": {
    "collapsed": false,
    "pycharm": {
     "name": "#%%\n"
    }
   }
  },
  {
   "cell_type": "code",
   "execution_count": null,
   "outputs": [],
   "source": [
    "for i, row in tqdm(data_universe.iterrows()):\n",
    "    df = pd.read_csv(f\"data/{row.pair_name}.csv\")\n",
    "    df[\"time_key\"] = df.time.apply(lambda x: datetime.fromtimestamp(int(x/1000)))\n",
    "    df[\"date\"] = df.time_key.apply(lambda x: x.date())\n",
    "    df = df[\n",
    "        (df.time_key >= \"2020-01-01\")\n",
    "        & (df.time_key <= \"2022-08-10\")\n",
    "    ]\n",
    "    # print(f\"{i}. {row.pair_name}: {df.shape}\")\n",
    "    for date_ in df.date.unique():\n",
    "        df_daily = df[df.date == date_][\n",
    "            [\"time_key\", \"open\", \"high\", \"low\", \"close\", \"volume\"]\n",
    "        ].reset_index(drop=True)\n",
    "        date_str = date_.strftime(\"%Y-%m-%d\")\n",
    "        Path(f\"clean_data/k_line/K_1M/{row.pair_name}\").mkdir(parents=True, exist_ok=True)\n",
    "        df_daily.to_csv(f\"clean_data/k_line/K_1M/{row.pair_name}/{date_str}.csv\",\n",
    "                        index=False)"
   ],
   "metadata": {
    "collapsed": false,
    "pycharm": {
     "name": "#%%\n"
    }
   }
  },
  {
   "cell_type": "code",
   "execution_count": null,
   "outputs": [],
   "source": [],
   "metadata": {
    "collapsed": false,
    "pycharm": {
     "name": "#%%\n"
    }
   }
  },
  {
   "cell_type": "markdown",
   "source": [
    "We want to see the active trading hours of each coin."
   ],
   "metadata": {
    "collapsed": false,
    "pycharm": {
     "name": "#%% md\n"
    }
   }
  },
  {
   "cell_type": "code",
   "execution_count": null,
   "outputs": [],
   "source": [
    "num_bars_in_1hr = {}\n",
    "for i, row in tqdm(data_universe.iterrows()):\n",
    "    # if i > 7:\n",
    "    #     break\n",
    "    if i % 4 == 0:\n",
    "        fig, axes = plt.subplots(\n",
    "            nrows=4, #data_universe.shape[0],\n",
    "            ncols=1,\n",
    "            sharex=True\n",
    "        )\n",
    "    df = pd.read_csv(f\"data/{row.pair_name}.csv\")\n",
    "    df[\"time_key\"] = df.time.apply(lambda x: datetime.fromtimestamp(int(x/1000)))\n",
    "    df[\"date\"] = df.time_key.apply(lambda x: x.date())\n",
    "    df[\"hour\"] = df.time_key.apply(lambda x: x.hour)\n",
    "    df = df[\n",
    "        (df.time_key >= \"2020-01-01\")\n",
    "        & (df.time_key <= \"2022-08-10\")\n",
    "    ]\n",
    "    num_days = len(df.date.unique())\n",
    "    # Average number of bars in that particular hour\n",
    "    df1 = df.groupby(\"hour\").count().time_key / num_days\n",
    "    df1.plot(ax=axes[i%4], title=f\"{row.pair_name}\")\n",
    "    num_bars_in_1hr[row.pair_name] = {\n",
    "        \"max\": df1.max(),\n",
    "        \"min\": df1.min(),\n",
    "        \"mean\": df1.mean(),\n",
    "        \"median\": df1.median(),\n",
    "        \"std\": df1.std()\n",
    "    }\n",
    "num_bars_in_1hr = pd.DataFrame(num_bars_in_1hr).T\n",
    "num_bars_in_1hr = num_bars_in_1hr.sort_values(by=\"min\", ascending=False)\n",
    "num_bars_in_1hr"
   ],
   "metadata": {
    "collapsed": false,
    "pycharm": {
     "name": "#%%\n"
    }
   }
  },
  {
   "cell_type": "code",
   "execution_count": null,
   "outputs": [],
   "source": [],
   "metadata": {
    "collapsed": false,
    "pycharm": {
     "name": "#%%\n"
    }
   }
  },
  {
   "cell_type": "code",
   "execution_count": null,
   "outputs": [],
   "source": [],
   "metadata": {
    "collapsed": false,
    "pycharm": {
     "name": "#%%\n"
    }
   }
  },
  {
   "cell_type": "markdown",
   "source": [
    "We can see that `BTC` and `ETH` are trading most actively; while\n",
    "coins such as `LYM` and `PAS` are almost inactive. The table shows\n",
    "that there are 59 bars (1-min OHLCV) in every hour for `BTC`, and 57\n",
    "bars for `ETH`, which indicates high liquidity for these two\n",
    "cryptocurrencies. The less this number becomes, the more illiquid\n",
    "it means. Let's list the top 10 coins:\n"
   ],
   "metadata": {
    "collapsed": false,
    "pycharm": {
     "name": "#%% md\n"
    }
   }
  },
  {
   "cell_type": "code",
   "execution_count": null,
   "outputs": [],
   "source": [
    "num_bars_in_1hr.head(10)"
   ],
   "metadata": {
    "collapsed": false,
    "pycharm": {
     "name": "#%%\n"
    }
   }
  },
  {
   "cell_type": "markdown",
   "source": [
    "As we can see, only the first 6 pairs are sufficient liquid (with\n",
    "more than 45 bars in an hour). There is a big gap between `LTC`\n",
    "and `EOS`. In order to guarantee the liquidity of trading\n",
    "instruments, we limit our trading universe to the top 6 cryptocurrency\n",
    "pairs, i.e., `BTCUSD`, `ETHUSD`, `XRPUSD`, `LEOUSD`, `USTUSD`,\n",
    "and `LTCUSD`.\n",
    "\n",
    "We can take a closer look at these coins:"
   ],
   "metadata": {
    "collapsed": false,
    "pycharm": {
     "name": "#%% md\n"
    }
   }
  },
  {
   "cell_type": "code",
   "execution_count": null,
   "outputs": [],
   "source": [],
   "metadata": {
    "collapsed": false,
    "pycharm": {
     "name": "#%%\n"
    }
   }
  },
  {
   "cell_type": "code",
   "execution_count": null,
   "outputs": [],
   "source": [
    "pairs = {\n",
    "    \"btcusd\": None,\n",
    "    \"ethusd\": None,\n",
    "    \"xrpusd\": None,\n",
    "    \"leousd\": None,\n",
    "    \"ustusd\": None,\n",
    "    \"ltcusd\": None\n",
    "}\n",
    "for i, pair_name in enumerate(pairs):\n",
    "    print(i, i%2, pair_name)\n",
    "    if i % 2 == 0:\n",
    "        fig, axes = plt.subplots(\n",
    "            nrows=2, #data_universe.shape[0],\n",
    "            ncols=1,\n",
    "            sharex=True\n",
    "        )\n",
    "    df = pd.read_csv(f\"data/{pair_name}.csv\")\n",
    "    df[\"time_key\"] = df.time.apply(lambda x: datetime.fromtimestamp(int(x/1000)))\n",
    "    df[\"date\"] = df.time_key.apply(lambda x: x.date())\n",
    "    df[\"hour\"] = df.time_key.apply(lambda x: x.hour)\n",
    "    df = df[\n",
    "        (df.time_key >= \"2020-01-01\")\n",
    "        & (df.time_key <= \"2022-08-10\")\n",
    "    ]\n",
    "    pairs[pair_name] = df.copy()\n",
    "    num_days = len(df.date.unique())\n",
    "    # Average number of bars in that particular hour\n",
    "    df1 = df.groupby(\"hour\").count().time_key / num_days\n",
    "    df1.plot(ax=axes[i%2], title=f\"{pair_name}\")"
   ],
   "metadata": {
    "collapsed": false,
    "pycharm": {
     "name": "#%%\n"
    }
   }
  },
  {
   "cell_type": "markdown",
   "source": [
    "As we can see, all six pairs have similar active trading\n",
    "hours. The market is relatively silent from 9 am to 4 pm.\n",
    "This may indicate that the investors of different cryptocurrencies\n",
    "are likely the same group of people.\n",
    "\n",
    "Let's look at the price movements of these cryptocurrencies:"
   ],
   "metadata": {
    "collapsed": false,
    "pycharm": {
     "name": "#%% md\n"
    }
   }
  },
  {
   "cell_type": "code",
   "execution_count": null,
   "outputs": [],
   "source": [
    "for i, pair_name in enumerate(pairs):\n",
    "    if i % 2 == 0:\n",
    "        fig, axes = plt.subplots(\n",
    "            nrows=2, #data_universe.shape[0],\n",
    "            ncols=1,\n",
    "            sharex=True\n",
    "        )\n",
    "    df = pairs[pair_name]\n",
    "    df[[\"time_key\", \"close\"]].set_index(\"time_key\").plot(\n",
    "        ax=axes[i%2],\n",
    "        title=pair_name)"
   ],
   "metadata": {
    "collapsed": false,
    "pycharm": {
     "name": "#%%\n"
    }
   }
  },
  {
   "cell_type": "markdown",
   "source": [
    "We can see that `BTC`, `ETH`, `XRP`, and `LTC` show similarity\n",
    "in price movement, but `LEO` and `UST` differ from the others.\n",
    "We can see it more clear in a correlation heatmap:"
   ],
   "metadata": {
    "collapsed": false,
    "pycharm": {
     "name": "#%% md\n"
    }
   }
  },
  {
   "cell_type": "code",
   "execution_count": null,
   "outputs": [],
   "source": [
    "all_pairs = None\n",
    "for pair_name in pairs:\n",
    "    df = pairs[pair_name][[\"time_key\", \"close\"]].set_index(\"time_key\")\n",
    "    print(pair_name, df.shape)\n",
    "    # if all_pairs is None:\n",
    "    #     all_pairs = df.copy()\n",
    "    # else:\n",
    "    #     all_pairs = all_pairs.merge(df, how=\"outer\")"
   ],
   "metadata": {
    "collapsed": false,
    "pycharm": {
     "name": "#%%\n"
    }
   }
  },
  {
   "cell_type": "code",
   "execution_count": null,
   "outputs": [],
   "source": [],
   "metadata": {
    "collapsed": false,
    "pycharm": {
     "name": "#%%\n"
    }
   }
  },
  {
   "cell_type": "code",
   "execution_count": null,
   "outputs": [],
   "source": [],
   "metadata": {
    "collapsed": false,
    "pycharm": {
     "name": "#%%\n"
    }
   }
  },
  {
   "cell_type": "code",
   "execution_count": null,
   "outputs": [],
   "source": [],
   "metadata": {
    "collapsed": false,
    "pycharm": {
     "name": "#%%\n"
    }
   }
  },
  {
   "cell_type": "code",
   "execution_count": null,
   "outputs": [],
   "source": [],
   "metadata": {
    "collapsed": false,
    "pycharm": {
     "name": "#%%\n"
    }
   }
  }
 ],
 "metadata": {
  "kernelspec": {
   "display_name": "Python 3",
   "language": "python",
   "name": "python3"
  },
  "language_info": {
   "codemirror_mode": {
    "name": "ipython",
    "version": 2
   },
   "file_extension": ".py",
   "mimetype": "text/x-python",
   "name": "python",
   "nbconvert_exporter": "python",
   "pygments_lexer": "ipython2",
   "version": "2.7.6"
  }
 },
 "nbformat": 4,
 "nbformat_minor": 0
}